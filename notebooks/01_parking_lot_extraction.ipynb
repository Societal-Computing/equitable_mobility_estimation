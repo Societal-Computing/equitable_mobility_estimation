{
 "cells": [
  {
   "cell_type": "markdown",
   "metadata": {},
   "source": [
    "This notebook file is to show the steps we followed to extract parking lots from OpenStreetMap of major diy/wholesale."
   ]
  },
  {
   "cell_type": "code",
   "execution_count": null,
   "metadata": {},
   "outputs": [],
   "source": [
    "import osmnx as ox\n",
    "import numpy as np\n",
    "import pandas as pd\n",
    "import geopandas as gpd\n",
    "import time\n",
    "from tqdm import tqdm\n",
    "import sys\n",
    "import os\n",
    "from pathlib import Path\n",
    "\n",
    "path = Path(os.getcwd())\n",
    "parent_directory = Path.joinpath(path.parent,'src').as_posix()\n",
    "sys.path.append(str(parent_directory))\n",
    "\n",
    "import pandas as pd\n",
    "from tqdm import tqdm"
   ]
  },
  {
   "cell_type": "markdown",
   "metadata": {},
   "source": [
    "### Extract major diy/wholesale or other stores, Germany"
   ]
  },
  {
   "cell_type": "code",
   "execution_count": null,
   "metadata": {},
   "outputs": [],
   "source": [
    "location_of_interest = 'Germany'\n",
    "tag_of_interest = 'brand'\n",
    "subtags_of_interest = [] #select brands of interest\n",
    "distance = 10"
   ]
  },
  {
   "cell_type": "code",
   "execution_count": null,
   "metadata": {},
   "outputs": [],
   "source": [
    "places = (ox.features_from_place(location_of_interest, \n",
    "                                              tags={tag_of_interest: subtags_of_interest})\n",
    "                       .reset_index())\n",
    "\n",
    "places['geometry'] = np.where(places['geometry'].geom_type == 'Point', places['geometry'], places['geometry'].centroid)\n",
    "places['lon'] = places.geometry.apply(lambda p: p.x)\n",
    "places['lat'] = places.geometry.apply(lambda p: p.y)"
   ]
  },
  {
   "cell_type": "markdown",
   "metadata": {},
   "source": [
    "##### Extract all parking lots within a distance of 10m around those places"
   ]
  },
  {
   "cell_type": "code",
   "execution_count": null,
   "metadata": {},
   "outputs": [],
   "source": [
    "time_out = abs(np.random.default_rng(1234).normal(2, 3, places.shape[0]))\n",
    "tags = {'parking':True}\n",
    "parking_all = gpd.GeoDataFrame()\n",
    "\n",
    "for place in tqdm(places.osmid.unique().tolist()):\n",
    "    try:\n",
    "        tmp = ox.features_from_point(places.loc[places.osmid == place, ['lat', 'lon']].values.flatten(), dist=distance, tags=tags).reset_index()\n",
    "        tmp['osmid_origin'] = place\n",
    "        parking_all = pd.concat([parking_all, tmp])\n",
    "        time.sleep(time_out[places.osmid.unique().tolist().index(place)])  ### to avoid overloading the server    \n",
    "    except:\n",
    "        continue"
   ]
  },
  {
   "cell_type": "code",
   "execution_count": null,
   "metadata": {},
   "outputs": [],
   "source": [
    "parking_lots = parking_all.copy()\n",
    "parking_lots.head(1)"
   ]
  },
  {
   "cell_type": "code",
   "execution_count": null,
   "metadata": {},
   "outputs": [],
   "source": [
    "parking_lots.shape"
   ]
  },
  {
   "cell_type": "markdown",
   "metadata": {},
   "source": [
    "Just keep surface and rooftop parking"
   ]
  },
  {
   "cell_type": "code",
   "execution_count": null,
   "metadata": {},
   "outputs": [],
   "source": [
    "parking_lots = parking_lots[(parking_lots.parking == 'surface') | (parking_lots.parking == 'rooftop')].copy()"
   ]
  },
  {
   "cell_type": "markdown",
   "metadata": {},
   "source": [
    "Keep only commercial parking"
   ]
  },
  {
   "cell_type": "code",
   "execution_count": null,
   "metadata": {},
   "outputs": [],
   "source": [
    "parking_lots = parking_lots[(parking_lots.access == 'customers')].copy()"
   ]
  },
  {
   "cell_type": "markdown",
   "metadata": {},
   "source": [
    "Keep only those that have an area"
   ]
  },
  {
   "cell_type": "code",
   "execution_count": null,
   "metadata": {},
   "outputs": [],
   "source": [
    "parking_poly = parking_lots.loc[parking_lots['geometry'].geom_type == 'Polygon',['osmid', 'osmid_origin', 'geometry']]"
   ]
  },
  {
   "cell_type": "code",
   "execution_count": null,
   "metadata": {},
   "outputs": [],
   "source": [
    "parking_poly['area'] = parking_poly.geometry.area\n",
    "parking_poly.head()"
   ]
  },
  {
   "cell_type": "markdown",
   "metadata": {},
   "source": [
    "Calculate distance of parking lot to origin POI"
   ]
  },
  {
   "cell_type": "code",
   "execution_count": null,
   "metadata": {},
   "outputs": [],
   "source": [
    "parking_poly['dist_to_poi'] = (parking_poly\n",
    "                               .to_crs('EPSG:3857')\n",
    "                               .merge(places\n",
    "                                      .to_crs('EPSG:3857')\n",
    "                                      .rename(columns = {'osmid':'osmid_origin', 'geometry':'geo_point'})[['osmid_origin', 'geo_point']]\n",
    "                                      , on = 'osmid_origin', how = 'left')\n",
    "                               .apply(lambda row: row['geometry'].distance(row['geo_point']), axis=1))"
   ]
  },
  {
   "cell_type": "markdown",
   "metadata": {},
   "source": [
    "Calculate parking lot size"
   ]
  },
  {
   "cell_type": "code",
   "execution_count": null,
   "metadata": {},
   "outputs": [],
   "source": [
    "parking_poly['area_sqm'] = parking_poly.to_crs('EPSG:3857').area"
   ]
  },
  {
   "cell_type": "code",
   "execution_count": null,
   "metadata": {},
   "outputs": [],
   "source": [
    "parking_poly.head()"
   ]
  },
  {
   "cell_type": "code",
   "execution_count": null,
   "metadata": {},
   "outputs": [],
   "source": [
    "parking_poly.info()"
   ]
  },
  {
   "cell_type": "markdown",
   "metadata": {},
   "source": [
    "##### Save it"
   ]
  },
  {
   "cell_type": "code",
   "execution_count": null,
   "metadata": {},
   "outputs": [],
   "source": [
    "parking_poly.head()"
   ]
  },
  {
   "cell_type": "code",
   "execution_count": null,
   "metadata": {},
   "outputs": [],
   "source": [
    "parking_poly.to_file('../../input/diy_parking_poly.geojson', driver='GeoJSON')"
   ]
  }
 ],
 "metadata": {
  "kernelspec": {
   "display_name": "cv_venv",
   "language": "python",
   "name": "python3"
  },
  "language_info": {
   "codemirror_mode": {
    "name": "ipython",
    "version": 3
   },
   "file_extension": ".py",
   "mimetype": "text/x-python",
   "name": "python",
   "nbconvert_exporter": "python",
   "pygments_lexer": "ipython3",
   "version": "3.10.0"
  }
 },
 "nbformat": 4,
 "nbformat_minor": 2
}
